{
 "cells": [
  {
   "cell_type": "markdown",
   "id": "ff2ef194-c7f2-4c4a-aa4d-06565425f6c6",
   "metadata": {},
   "source": [
    "## Examples"
   ]
  },
  {
   "cell_type": "code",
   "execution_count": 1,
   "id": "c4679237-6f21-4d26-9f0c-f46edab8a092",
   "metadata": {},
   "outputs": [
    {
     "name": "stdout",
     "output_type": "stream",
     "text": [
      "Requirement already satisfied: numpy in /home/grosedj/work/test-packaging/env/lib/python3.10/site-packages (1.26.1)\n"
     ]
    }
   ],
   "source": [
    "!python -m pip install numpy"
   ]
  },
  {
   "cell_type": "code",
   "execution_count": 2,
   "id": "62bed1a8-9b68-43ce-9b9b-9c4da13bda02",
   "metadata": {},
   "outputs": [
    {
     "name": "stdout",
     "output_type": "stream",
     "text": [
      "Found existing installation: changepoint-online 0.0.1\n",
      "Uninstalling changepoint-online-0.0.1:\n",
      "  Successfully uninstalled changepoint-online-0.0.1\n"
     ]
    }
   ],
   "source": [
    "!python -m pip uninstall -y changepoint_online"
   ]
  },
  {
   "cell_type": "code",
   "execution_count": 3,
   "id": "0572e3a0-47b8-4e7c-9d7d-827d7ccdbfd2",
   "metadata": {},
   "outputs": [
    {
     "name": "stdout",
     "output_type": "stream",
     "text": [
      "Collecting changepoint.online\n",
      "  Cloning https://github.com/grosed/changepoint.online/ to /tmp/pip-install-cbfgfmgz/changepoint-online_843eb680b3a7466d955057d9de29f8f0\n",
      "  Running command git clone --filter=blob:none --quiet https://github.com/grosed/changepoint.online/ /tmp/pip-install-cbfgfmgz/changepoint-online_843eb680b3a7466d955057d9de29f8f0\n",
      "  Resolved https://github.com/grosed/changepoint.online/ to commit 1c25964d0b24c27967bada6574dbd45b469adf8c\n",
      "  Installing build dependencies ... \u001b[?25ldone\n",
      "\u001b[?25h  Getting requirements to build wheel ... \u001b[?25ldone\n",
      "\u001b[?25h  Installing backend dependencies ... \u001b[?25ldone\n",
      "\u001b[?25h  Preparing metadata (pyproject.toml) ... \u001b[?25ldone\n",
      "\u001b[?25hBuilding wheels for collected packages: changepoint.online\n",
      "  Building wheel for changepoint.online (pyproject.toml) ... \u001b[?25ldone\n",
      "\u001b[?25h  Created wheel for changepoint.online: filename=changepoint_online-0.0.1-py3-none-any.whl size=15772 sha256=4e885a91aa26ce111b6dbc8a4dc25dcae8afdbbe37fc663128a6261dcecbbf77\n",
      "  Stored in directory: /tmp/pip-ephem-wheel-cache-f5exoxqn/wheels/35/ed/e6/7ac6c98a8e36d6ca8ae017fa590878bafa3b330c405334d740\n",
      "Successfully built changepoint.online\n",
      "Installing collected packages: changepoint.online\n",
      "Successfully installed changepoint.online-0.0.1\n"
     ]
    }
   ],
   "source": [
    "!python -m pip install 'git+https://github.com/grosed/changepoint.online/#egg=changepoint.online&subdirectory=python/package'"
   ]
  },
  {
   "cell_type": "code",
   "execution_count": 4,
   "id": "db68070c-11d9-49c4-adcb-c68e2a2127e8",
   "metadata": {},
   "outputs": [],
   "source": [
    "from changepoint_online import *"
   ]
  },
  {
   "cell_type": "code",
   "execution_count": 5,
   "id": "2baaaf24-4c94-4166-baa9-7a09da0cf04e",
   "metadata": {},
   "outputs": [],
   "source": [
    "import numpy as np"
   ]
  },
  {
   "cell_type": "code",
   "execution_count": 6,
   "id": "914bcf26-ac50-4d6c-a133-9f96c9e51a3a",
   "metadata": {},
   "outputs": [],
   "source": [
    "np.random.seed(0)\n",
    "Y = np.concatenate((np.random.normal(loc=0.0, scale=1.0, size=5000), np.random.normal(loc=10.0, scale=1.0, size=5000)))"
   ]
  },
  {
   "cell_type": "markdown",
   "id": "b4f70926-bb54-48c9-83fc-720e37c677a5",
   "metadata": {},
   "source": [
    "### Guassian"
   ]
  },
  {
   "cell_type": "code",
   "execution_count": 7,
   "id": "69fc131e-d8c0-43d4-b0af-9aae86681a6f",
   "metadata": {},
   "outputs": [],
   "source": [
    "detector = Focus(Guassian)"
   ]
  },
  {
   "cell_type": "code",
   "execution_count": 8,
   "id": "69bc536d-e451-4663-b3ac-48f762a2f6f7",
   "metadata": {},
   "outputs": [],
   "source": [
    "threshold = 10.0\n",
    "for y in Y:\n",
    "    detector.update(y)\n",
    "    if detector.threshold() >= threshold:\n",
    "        break"
   ]
  },
  {
   "cell_type": "code",
   "execution_count": 9,
   "id": "c5e7261c-77a2-443d-b9dd-fb3d27b8e2cf",
   "metadata": {},
   "outputs": [
    {
     "data": {
      "text/plain": [
       "{'stopping_time': 5001, 'changepoint': 5000}"
      ]
     },
     "execution_count": 9,
     "metadata": {},
     "output_type": "execute_result"
    }
   ],
   "source": [
    "detector.changepoint()"
   ]
  },
  {
   "cell_type": "markdown",
   "id": "195ac910-a559-4061-a599-1747c1c47054",
   "metadata": {},
   "source": [
    "### Poisson"
   ]
  },
  {
   "cell_type": "code",
   "execution_count": 10,
   "id": "e1ba3e79-674d-4504-ab06-f0fc498bdad1",
   "metadata": {},
   "outputs": [],
   "source": [
    "np.random.seed(0)\n",
    "Y = np.concatenate((np.random.poisson(lam=4.0, size=5000), np.random.poisson(lam=4.2, size=5000)))"
   ]
  },
  {
   "cell_type": "code",
   "execution_count": 11,
   "id": "b6147786-89b5-4223-90e2-82182af6d19a",
   "metadata": {},
   "outputs": [],
   "source": [
    "detector = Focus(Poisson)"
   ]
  },
  {
   "cell_type": "code",
   "execution_count": 12,
   "id": "3f5d0a82-737c-440d-87cf-0801deaec166",
   "metadata": {},
   "outputs": [],
   "source": [
    "threshold = 10.0\n",
    "for y in Y:\n",
    "    detector.update(y)\n",
    "    if detector.threshold() >= threshold:\n",
    "        break"
   ]
  },
  {
   "cell_type": "code",
   "execution_count": 13,
   "id": "1f1fe427-fb22-499f-b39c-95f5d5c23c6d",
   "metadata": {},
   "outputs": [
    {
     "data": {
      "text/plain": [
       "{'stopping_time': 6488, 'changepoint': 4973}"
      ]
     },
     "execution_count": 13,
     "metadata": {},
     "output_type": "execute_result"
    }
   ],
   "source": [
    "detector.changepoint()"
   ]
  },
  {
   "cell_type": "markdown",
   "id": "f26d4ef9-27f8-4c42-b691-66b287538a48",
   "metadata": {},
   "source": [
    "### Gamma"
   ]
  },
  {
   "cell_type": "code",
   "execution_count": 14,
   "id": "3d7e4cc7-b586-44ac-a14d-bbda762ceb5d",
   "metadata": {},
   "outputs": [],
   "source": [
    "np.random.seed(0)\n",
    "Y = np.concatenate((np.random.gamma(4.0, scale=3.0, size=5000), np.random.gamma(4.0, scale=6.0, size=5000)))"
   ]
  },
  {
   "cell_type": "code",
   "execution_count": 15,
   "id": "c1395c0a-17da-4f56-9978-19559eea9e23",
   "metadata": {},
   "outputs": [],
   "source": [
    "detector = Focus(Gamma(1))"
   ]
  },
  {
   "cell_type": "code",
   "execution_count": 16,
   "id": "34c7d047-3bf8-4cac-bbf0-a464474d5b58",
   "metadata": {},
   "outputs": [],
   "source": [
    "threshold = 10.0\n",
    "for y in Y:\n",
    "    detector.update(y)\n",
    "    if detector.threshold() >= threshold:\n",
    "        break"
   ]
  },
  {
   "cell_type": "code",
   "execution_count": 17,
   "id": "61c4ec8b-c8f2-4e12-b530-4f6c75aebde5",
   "metadata": {},
   "outputs": [
    {
     "data": {
      "text/plain": [
       "{'stopping_time': 5033, 'changepoint': 5002}"
      ]
     },
     "execution_count": 17,
     "metadata": {},
     "output_type": "execute_result"
    }
   ],
   "source": [
    "detector.changepoint()"
   ]
  }
 ],
 "metadata": {
  "kernelspec": {
   "display_name": "Python 3 (ipykernel)",
   "language": "python",
   "name": "python3"
  },
  "language_info": {
   "codemirror_mode": {
    "name": "ipython",
    "version": 3
   },
   "file_extension": ".py",
   "mimetype": "text/x-python",
   "name": "python",
   "nbconvert_exporter": "python",
   "pygments_lexer": "ipython3",
   "version": "3.10.0"
  }
 },
 "nbformat": 4,
 "nbformat_minor": 5
}
