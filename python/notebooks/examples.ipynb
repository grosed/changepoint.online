{
 "cells": [
  {
   "cell_type": "markdown",
   "id": "ff2ef194-c7f2-4c4a-aa4d-06565425f6c6",
   "metadata": {},
   "source": [
    "## Examples"
   ]
  },
  {
   "cell_type": "code",
   "execution_count": 1,
   "id": "c4679237-6f21-4d26-9f0c-f46edab8a092",
   "metadata": {},
   "outputs": [
    {
     "name": "stdout",
     "output_type": "stream",
     "text": [
      "Defaulting to user installation because normal site-packages is not writeable\n",
      "Requirement already satisfied: numpy in /usr/lib/python3/dist-packages (1.21.5)\n"
     ]
    }
   ],
   "source": [
    "!python -m pip install numpy"
   ]
  },
  {
   "cell_type": "code",
   "execution_count": 2,
   "id": "62bed1a8-9b68-43ce-9b9b-9c4da13bda02",
   "metadata": {},
   "outputs": [
    {
     "name": "stdout",
     "output_type": "stream",
     "text": [
      "\u001b[33mWARNING: Skipping changepoint_online as it is not installed.\u001b[0m\u001b[33m\n",
      "\u001b[0m"
     ]
    }
   ],
   "source": [
    "!python -m pip uninstall -y changepoint_online"
   ]
  },
  {
   "cell_type": "code",
   "execution_count": 3,
   "id": "0572e3a0-47b8-4e7c-9d7d-827d7ccdbfd2",
   "metadata": {},
   "outputs": [
    {
     "name": "stdout",
     "output_type": "stream",
     "text": [
      "Defaulting to user installation because normal site-packages is not writeable\n",
      "Collecting changepoint.online\n",
      "  Cloning https://github.com/grosed/changepoint.online/ to /tmp/pip-install-zfwzirtk/changepoint-online_fe213d01cd77448faf903b08c7b4b447\n",
      "  Running command git clone --filter=blob:none --quiet https://github.com/grosed/changepoint.online/ /tmp/pip-install-zfwzirtk/changepoint-online_fe213d01cd77448faf903b08c7b4b447\n",
      "  Resolved https://github.com/grosed/changepoint.online/ to commit d61707626d2fb6b0a0b86752f81cadb21bf8264f\n",
      "  Installing build dependencies ... \u001b[?25ldone\n",
      "\u001b[?25h  Getting requirements to build wheel ... \u001b[?25ldone\n",
      "\u001b[?25h  Installing backend dependencies ... \u001b[?25ldone\n",
      "\u001b[?25h  Preparing metadata (pyproject.toml) ... \u001b[?25ldone\n",
      "\u001b[?25h\u001b[33m  WARNING: Generating metadata for package changepoint.online produced metadata for project name unknown. Fix your #egg=changepoint.online fragments.\u001b[0m\u001b[33m\n",
      "\u001b[0mDiscarding \u001b[4;34mgit+https://github.com/grosed/changepoint.online/#egg=changepoint.online&subdirectory=python/package\u001b[0m: \u001b[33mRequested unknown from git+https://github.com/grosed/changepoint.online/#egg=changepoint.online&subdirectory=python/package has inconsistent name: filename has 'changepoint-online', but metadata has 'unknown'\u001b[0m\n",
      "\u001b[31mERROR: Could not find a version that satisfies the requirement changepoint-online (unavailable) (from versions: none)\u001b[0m\u001b[31m\n",
      "\u001b[0m\u001b[31mERROR: No matching distribution found for changepoint-online (unavailable)\u001b[0m\u001b[31m\n",
      "\u001b[0m"
     ]
    }
   ],
   "source": [
    "!python -m pip install 'git+https://github.com/grosed/changepoint.online/#egg=changepoint.online&subdirectory=python/package'"
   ]
  },
  {
   "cell_type": "code",
   "execution_count": 3,
   "id": "db68070c-11d9-49c4-adcb-c68e2a2127e8",
   "metadata": {},
   "outputs": [
    {
     "ename": "ModuleNotFoundError",
     "evalue": "No module named 'changepoint_online'",
     "output_type": "error",
     "traceback": [
      "\u001b[0;31m---------------------------------------------------------------------------\u001b[0m",
      "\u001b[0;31mModuleNotFoundError\u001b[0m                       Traceback (most recent call last)",
      "\u001b[1;32m/home/romano/Dropbox/changepoint.online/python/notebooks/examples.ipynb Cell 5\u001b[0m line \u001b[0;36m1\n\u001b[0;32m----> <a href='vscode-notebook-cell:/home/romano/Dropbox/changepoint.online/python/notebooks/examples.ipynb#W4sZmlsZQ%3D%3D?line=0'>1</a>\u001b[0m \u001b[39mfrom\u001b[39;00m \u001b[39mchangepoint_online\u001b[39;00m \u001b[39mimport\u001b[39;00m \u001b[39m*\u001b[39m\n",
      "\u001b[0;31mModuleNotFoundError\u001b[0m: No module named 'changepoint_online'"
     ]
    }
   ],
   "source": [
    "from changepoint_online import *"
   ]
  },
  {
   "cell_type": "code",
   "execution_count": 6,
   "id": "2baaaf24-4c94-4166-baa9-7a09da0cf04e",
   "metadata": {},
   "outputs": [],
   "source": [
    "import numpy as np"
   ]
  },
  {
   "cell_type": "code",
   "execution_count": null,
   "id": "914bcf26-ac50-4d6c-a133-9f96c9e51a3a",
   "metadata": {},
   "outputs": [],
   "source": [
    "np.random.seed(0)\n",
    "Y = np.concatenate((np.random.normal(loc=0.0, scale=1.0, size=5000), np.random.normal(loc=10.0, scale=1.0, size=5000)))"
   ]
  },
  {
   "cell_type": "markdown",
   "id": "b4f70926-bb54-48c9-83fc-720e37c677a5",
   "metadata": {},
   "source": [
    "### Guassian"
   ]
  },
  {
   "cell_type": "code",
   "execution_count": null,
   "id": "69fc131e-d8c0-43d4-b0af-9aae86681a6f",
   "metadata": {},
   "outputs": [],
   "source": [
    "detector = Focus(Guassian)"
   ]
  },
  {
   "cell_type": "code",
   "execution_count": null,
   "id": "69bc536d-e451-4663-b3ac-48f762a2f6f7",
   "metadata": {},
   "outputs": [],
   "source": [
    "threshold = 10.0\n",
    "for y in Y:\n",
    "    detector.update(y)\n",
    "    if detector.threshold() >= threshold:\n",
    "        break"
   ]
  },
  {
   "cell_type": "code",
   "execution_count": null,
   "id": "c5e7261c-77a2-443d-b9dd-fb3d27b8e2cf",
   "metadata": {},
   "outputs": [],
   "source": [
    "detector.changepoint()"
   ]
  },
  {
   "cell_type": "markdown",
   "id": "195ac910-a559-4061-a599-1747c1c47054",
   "metadata": {},
   "source": [
    "### Poisson"
   ]
  },
  {
   "cell_type": "code",
   "execution_count": null,
   "id": "e1ba3e79-674d-4504-ab06-f0fc498bdad1",
   "metadata": {},
   "outputs": [],
   "source": [
    "np.random.seed(0)\n",
    "Y = np.concatenate((np.random.poisson(lam=4.0, size=5000), np.random.poisson(lam=4.2, size=5000)))"
   ]
  },
  {
   "cell_type": "code",
   "execution_count": null,
   "id": "b6147786-89b5-4223-90e2-82182af6d19a",
   "metadata": {},
   "outputs": [],
   "source": [
    "detector = Focus(Poisson)"
   ]
  },
  {
   "cell_type": "code",
   "execution_count": null,
   "id": "3f5d0a82-737c-440d-87cf-0801deaec166",
   "metadata": {},
   "outputs": [],
   "source": [
    "threshold = 10.0\n",
    "for y in Y:\n",
    "    detector.update(y)\n",
    "    if detector.threshold() >= threshold:\n",
    "        break"
   ]
  },
  {
   "cell_type": "code",
   "execution_count": null,
   "id": "1f1fe427-fb22-499f-b39c-95f5d5c23c6d",
   "metadata": {},
   "outputs": [],
   "source": [
    "detector.changepoint()"
   ]
  },
  {
   "cell_type": "markdown",
   "id": "f26d4ef9-27f8-4c42-b691-66b287538a48",
   "metadata": {},
   "source": [
    "### Gamma"
   ]
  },
  {
   "cell_type": "code",
   "execution_count": null,
   "id": "3d7e4cc7-b586-44ac-a14d-bbda762ceb5d",
   "metadata": {},
   "outputs": [],
   "source": [
    "np.random.seed(0)\n",
    "Y = np.concatenate((np.random.gamma(4.0, scale=3.0, size=5000), np.random.gamma(4.0, scale=6.0, size=5000)))"
   ]
  },
  {
   "cell_type": "code",
   "execution_count": null,
   "id": "c1395c0a-17da-4f56-9978-19559eea9e23",
   "metadata": {},
   "outputs": [],
   "source": [
    "detector = Focus(Gamma(1))"
   ]
  },
  {
   "cell_type": "code",
   "execution_count": null,
   "id": "34c7d047-3bf8-4cac-bbf0-a464474d5b58",
   "metadata": {},
   "outputs": [],
   "source": [
    "threshold = 10.0\n",
    "for y in Y:\n",
    "    detector.update(y)\n",
    "    if detector.threshold() >= threshold:\n",
    "        break"
   ]
  },
  {
   "cell_type": "code",
   "execution_count": null,
   "id": "61c4ec8b-c8f2-4e12-b530-4f6c75aebde5",
   "metadata": {},
   "outputs": [],
   "source": [
    "detector.changepoint()"
   ]
  }
 ],
 "metadata": {
  "kernelspec": {
   "display_name": "Python 3 (ipykernel)",
   "language": "python",
   "name": "python3"
  },
  "language_info": {
   "codemirror_mode": {
    "name": "ipython",
    "version": 3
   },
   "file_extension": ".py",
   "mimetype": "text/x-python",
   "name": "python",
   "nbconvert_exporter": "python",
   "pygments_lexer": "ipython3",
   "version": "3.10.12"
  }
 },
 "nbformat": 4,
 "nbformat_minor": 5
}
