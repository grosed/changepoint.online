{
 "cells": [
  {
   "cell_type": "markdown",
   "id": "ff2ef194-c7f2-4c4a-aa4d-06565425f6c6",
   "metadata": {},
   "source": [
    "## Examples"
   ]
  },
  {
   "cell_type": "code",
   "execution_count": 9,
   "id": "c4679237-6f21-4d26-9f0c-f46edab8a092",
   "metadata": {},
   "outputs": [
    {
     "name": "stdout",
     "output_type": "stream",
     "text": [
      "Requirement already satisfied: numpy in /home/romano/Dropbox/changepoint.online/python/.venv/lib/python3.11/site-packages (1.26.1)\n"
     ]
    }
   ],
   "source": [
    "!python -m pip install numpy"
   ]
  },
  {
   "cell_type": "code",
   "execution_count": 14,
   "id": "62bed1a8-9b68-43ce-9b9b-9c4da13bda02",
   "metadata": {},
   "outputs": [
    {
     "name": "stdout",
     "output_type": "stream",
     "text": [
      "3087.27s - pydevd: Sending message related to process being replaced timed-out after 5 seconds\n",
      "Found existing installation: changepoint-online 0.0.1\n",
      "Uninstalling changepoint-online-0.0.1:\n",
      "  Successfully uninstalled changepoint-online-0.0.1\n"
     ]
    }
   ],
   "source": [
    "!python -m pip uninstall -y changepoint_online"
   ]
  },
  {
   "cell_type": "code",
   "execution_count": 15,
   "id": "0572e3a0-47b8-4e7c-9d7d-827d7ccdbfd2",
   "metadata": {},
   "outputs": [
    {
     "name": "stdout",
     "output_type": "stream",
     "text": [
      "3094.72s - pydevd: Sending message related to process being replaced timed-out after 5 seconds\n",
      "Processing /home/romano/Dropbox/changepoint.online/python/package\n",
      "  Installing build dependencies ... \u001b[?25ldone\n",
      "\u001b[?25h  Getting requirements to build wheel ... \u001b[?25ldone\n",
      "\u001b[?25h  Installing backend dependencies ... \u001b[?25ldone\n",
      "\u001b[?25h  Preparing metadata (pyproject.toml) ... \u001b[?25ldone\n",
      "\u001b[?25hBuilding wheels for collected packages: changepoint-online\n",
      "  Building wheel for changepoint-online (pyproject.toml) ... \u001b[?25ldone\n",
      "\u001b[?25h  Created wheel for changepoint-online: filename=changepoint_online-0.0.1-py3-none-any.whl size=18424 sha256=ece2d9f12150fb499dc69121d0620ea8c338634ff82d12862a2cfb29cca7644a\n",
      "  Stored in directory: /tmp/pip-ephem-wheel-cache-t4dl9edy/wheels/ef/98/3a/e389858773e4fe5f47ec0415eb44c05e2319de69019c54a854\n",
      "Successfully built changepoint-online\n",
      "Installing collected packages: changepoint-online\n",
      "Successfully installed changepoint-online-0.0.1\n"
     ]
    }
   ],
   "source": [
    "!python -m pip install '../package/'"
   ]
  },
  {
   "cell_type": "code",
   "execution_count": 1,
   "id": "db68070c-11d9-49c4-adcb-c68e2a2127e8",
   "metadata": {},
   "outputs": [],
   "source": [
    "from changepoint_online import *"
   ]
  },
  {
   "cell_type": "code",
   "execution_count": 2,
   "metadata": {},
   "outputs": [
    {
     "name": "stdout",
     "output_type": "stream",
     "text": [
      "Help on class Focus in module changepoint_online.focus:\n",
      "\n",
      "class Focus(builtins.object)\n",
      " |  Focus(comp_func)\n",
      " |  \n",
      " |  The Focus class implements the FOCuS method, an algorithm for detecting changes in data streams on one-parameter exponential family models.\n",
      " |  For instance, FOCuS can detect changes-in-mean in a Gaussian data stream (white noise). \n",
      " |  It can be applied to settings where either the pre-change parameter is known or unknown.\n",
      " |      \n",
      " |  FOCuS solves the CUSUM likelihood-ratio test exactly in O(log(n)) time per iteration, where n is the current iteration. \n",
      " |  The method is equivalent to running a rolling window (MOSUM) simultaneously for all sizes of window, or the Page-CUSUM for all possible values\n",
      " |  of the size of change (an infinitely dense grid). \n",
      " |  \n",
      " |  DISCLAIMER: Albeit the FOCuS algorithm decreases the per-iteration cost from O(n) to O(log(n)), this \n",
      " |  implementation is not technically online as for n->infty this code would inherently overflow. \n",
      " |  True online implementations are described in the references below.\n",
      " |  \n",
      " |  References\n",
      " |  ----------\n",
      " |  Fast online changepoint detection via functional pruning CUSUM statistics\n",
      " |      G Romano, IA Eckley, P Fearnhead, G Rigaill - Journal of Machine Learning Research, 2023\n",
      " |  A Constant-per-Iteration Likelihood Ratio Test for Online Changepoint Detection for Exponential Family Models\n",
      " |      K Ward, G Romano, I Eckley, P Fearnhead - arXiv preprint arXiv:2302.04743, 2023\n",
      " |  \n",
      " |          \n",
      " |  Examples\n",
      " |  --------\n",
      " |  ```python\n",
      " |  \n",
      " |  ### Simple gaussian change in mean case ###\n",
      " |  import numpy as np\n",
      " |  \n",
      " |  np.random.seed(0)\n",
      " |  Y = np.concatenate((np.random.normal(loc=0.0, scale=1.0, size=5000), np.random.normal(loc=10.0, scale=1.0, size=5000)))\n",
      " |  \n",
      " |  detector = Focus(Gaussian())\n",
      " |  threshold = 10.0\n",
      " |  for y in Y:\n",
      " |      detector.update(y)\n",
      " |      if detector.statistic() >= threshold:\n",
      " |          break\n",
      " |  ```\n",
      " |  \n",
      " |  Attributes\n",
      " |  ----------\n",
      " |  cs: \n",
      " |      An instance of the `_CUSUM` class that keeps track of the cumulative sum and count.\n",
      " |  ql: \n",
      " |      An instance of the `_Cost` class, that keeps track of the cost function on the left side of the pre-change parameter.\n",
      " |  qr: \n",
      " |      An instance of the `_Cost` class, that keeps track of the cost function on the right side of the pre-change parameter.\n",
      " |  comp_func: \n",
      " |      The constructor for the component function given a specific distribution (e.g. Gaussian).\n",
      " |  \n",
      " |  Methods defined here:\n",
      " |  \n",
      " |  __init__(self, comp_func)\n",
      " |      Focus(comp_func)\n",
      " |      \n",
      " |      Initializes the Focus detector.\n",
      " |      \n",
      " |      Parameters\n",
      " |      ----------\n",
      " |      comp_func: A constructor for the component function given an exponential family model to use for the change detection.\n",
      " |              Currently implemented: Gaussian(), Bernoulli(), Poisson(), Gamma() or Exponential().\n",
      " |              For more details, check documentation of each component function, e.g. `help(Gaussian)`.\n",
      " |      \n",
      " |      Returns\n",
      " |      -------\n",
      " |      Focus:\n",
      " |          An instance of class Focus, our changepoint detector.\n",
      " |      \n",
      " |      Examples\n",
      " |      --------\n",
      " |      ```python\n",
      " |      ## Gaussian change in mean ##\n",
      " |      # with pre-change mean uknown\n",
      " |      detector = Focus(Gaussian())         \n",
      " |      # with pre-change mean known (and at 0)\n",
      " |      detector = Focus(Gaussian(loc=0)) \n",
      " |      \n",
      " |      ## Gamma change in rate ##\n",
      " |      # with pre-change scale parameter unknown\n",
      " |      detector = Focus(Gamma(shape=2))\n",
      " |       # with pre-change scale parameter known\n",
      " |      detector = Focus(Gamma(scale=0, shape=2))\n",
      " |      ```\n",
      " |  \n",
      " |  changepoint(self)\n",
      " |      changepoint()\n",
      " |      \n",
      " |      Returns the most likely changepoint location.\n",
      " |      \n",
      " |      \n",
      " |      Parameters\n",
      " |      -----\n",
      " |      Null\n",
      " |      \n",
      " |      Returns\n",
      " |      -------\n",
      " |      dict:\n",
      " |          A dictionary containing the stopping time and the most likely changepoint location.\n",
      " |  \n",
      " |  statistic(self)\n",
      " |      statistic()\n",
      " |      \n",
      " |      Computes the value of the CUSUM test statistics at the current iteration.\n",
      " |      \n",
      " |      Parameters\n",
      " |      ----------\n",
      " |      Null\n",
      " |      \n",
      " |      Returns\n",
      " |      -------\n",
      " |      float:\n",
      " |          The value of the CUSUM test statistics at the current iteration.\n",
      " |  \n",
      " |  update(self, y)\n",
      " |      update(y)\n",
      " |      \n",
      " |      Updates the FOCuS statistics with a new observation (data point).\n",
      " |      \n",
      " |      Parameters\n",
      " |      -----\n",
      " |      y: The new data point, either a single integer or a double.\n",
      " |      \n",
      " |      Returns\n",
      " |      -------\n",
      " |      None\n",
      " |  \n",
      " |  ----------------------------------------------------------------------\n",
      " |  Data descriptors defined here:\n",
      " |  \n",
      " |  __dict__\n",
      " |      dictionary for instance variables (if defined)\n",
      " |  \n",
      " |  __weakref__\n",
      " |      list of weak references to the object (if defined)\n",
      "\n"
     ]
    }
   ],
   "source": [
    "help(Focus)"
   ]
  },
  {
   "cell_type": "code",
   "execution_count": 3,
   "id": "2baaaf24-4c94-4166-baa9-7a09da0cf04e",
   "metadata": {},
   "outputs": [],
   "source": [
    "import numpy as np"
   ]
  },
  {
   "cell_type": "code",
   "execution_count": 4,
   "id": "914bcf26-ac50-4d6c-a133-9f96c9e51a3a",
   "metadata": {},
   "outputs": [],
   "source": [
    "np.random.seed(0)\n",
    "Y = np.concatenate((np.random.normal(loc=0.0, scale=1.0, size=5000), np.random.normal(loc=10.0, scale=1.0, size=5000)))"
   ]
  },
  {
   "cell_type": "markdown",
   "id": "b4f70926-bb54-48c9-83fc-720e37c677a5",
   "metadata": {},
   "source": [
    "### Guassian"
   ]
  },
  {
   "cell_type": "code",
   "execution_count": 6,
   "id": "69fc131e-d8c0-43d4-b0af-9aae86681a6f",
   "metadata": {},
   "outputs": [],
   "source": [
    "detector = Focus(Gaussian(loc=0))"
   ]
  },
  {
   "cell_type": "code",
   "execution_count": 7,
   "id": "69bc536d-e451-4663-b3ac-48f762a2f6f7",
   "metadata": {},
   "outputs": [],
   "source": [
    "threshold = 10.0\n",
    "for y in Y:\n",
    "    detector.update(y)\n",
    "    if detector.statistic() >= threshold:\n",
    "        break"
   ]
  },
  {
   "cell_type": "code",
   "execution_count": 8,
   "id": "c5e7261c-77a2-443d-b9dd-fb3d27b8e2cf",
   "metadata": {},
   "outputs": [
    {
     "data": {
      "text/plain": [
       "{'stopping_time': 5001, 'changepoint': 5000}"
      ]
     },
     "execution_count": 8,
     "metadata": {},
     "output_type": "execute_result"
    }
   ],
   "source": [
    "detector.changepoint()"
   ]
  },
  {
   "cell_type": "markdown",
   "id": "195ac910-a559-4061-a599-1747c1c47054",
   "metadata": {},
   "source": [
    "### Poisson"
   ]
  },
  {
   "cell_type": "code",
   "execution_count": 14,
   "id": "e1ba3e79-674d-4504-ab06-f0fc498bdad1",
   "metadata": {},
   "outputs": [],
   "source": [
    "np.random.seed(0)\n",
    "Y = np.concatenate((np.random.poisson(lam=4.0, size=5000), np.random.poisson(lam=4.2, size=5000)))"
   ]
  },
  {
   "cell_type": "code",
   "execution_count": 15,
   "id": "b6147786-89b5-4223-90e2-82182af6d19a",
   "metadata": {},
   "outputs": [],
   "source": [
    "detector = Focus(Poisson())"
   ]
  },
  {
   "cell_type": "code",
   "execution_count": 16,
   "id": "3f5d0a82-737c-440d-87cf-0801deaec166",
   "metadata": {},
   "outputs": [],
   "source": [
    "threshold = 10.0\n",
    "for y in Y:\n",
    "    detector.update(y)\n",
    "    if detector.statistic() >= threshold:\n",
    "        break"
   ]
  },
  {
   "cell_type": "code",
   "execution_count": 17,
   "id": "1f1fe427-fb22-499f-b39c-95f5d5c23c6d",
   "metadata": {},
   "outputs": [
    {
     "data": {
      "text/plain": [
       "{'stopping_time': 6488, 'changepoint': 4973}"
      ]
     },
     "execution_count": 17,
     "metadata": {},
     "output_type": "execute_result"
    }
   ],
   "source": [
    "detector.changepoint()"
   ]
  },
  {
   "cell_type": "markdown",
   "id": "f26d4ef9-27f8-4c42-b691-66b287538a48",
   "metadata": {},
   "source": [
    "### Gamma"
   ]
  },
  {
   "cell_type": "code",
   "execution_count": 18,
   "id": "3d7e4cc7-b586-44ac-a14d-bbda762ceb5d",
   "metadata": {},
   "outputs": [],
   "source": [
    "np.random.seed(0)\n",
    "Y = np.concatenate((np.random.gamma(4.0, scale=3.0, size=5000), np.random.gamma(4.0, scale=6.0, size=5000)))"
   ]
  },
  {
   "cell_type": "code",
   "execution_count": 34,
   "id": "c1395c0a-17da-4f56-9978-19559eea9e23",
   "metadata": {},
   "outputs": [
    {
     "data": {
      "text/plain": [
       "{'stopping_time': 5010, 'changepoint': 5002}"
      ]
     },
     "execution_count": 34,
     "metadata": {},
     "output_type": "execute_result"
    }
   ],
   "source": [
    "detector = Focus(Gamma(scale=3.0, shape=4.0))\n",
    "threshold = 10.0\n",
    "for y in Y:\n",
    "    detector.update(y)\n",
    "    if detector.statistic() >= threshold:\n",
    "        break\n",
    "detector.changepoint()"
   ]
  },
  {
   "cell_type": "code",
   "execution_count": 33,
   "id": "34c7d047-3bf8-4cac-bbf0-a464474d5b58",
   "metadata": {},
   "outputs": [
    {
     "data": {
      "text/plain": [
       "{'stopping_time': 5010, 'changepoint': 5002}"
      ]
     },
     "execution_count": 33,
     "metadata": {},
     "output_type": "execute_result"
    }
   ],
   "source": [
    "# with the Gamma it's possible to initialize even with rate parameter\n",
    "detector = Focus(Gamma(rate=1/3.0, shape=4.0))\n",
    "threshold = 10.0\n",
    "for y in Y:\n",
    "    detector.update(y)\n",
    "    if detector.statistic() >= threshold:\n",
    "        break\n",
    "detector.changepoint()"
   ]
  },
  {
   "cell_type": "markdown",
   "metadata": {},
   "source": [
    "### Bernoulli\n",
    "Bernoulli seems to be dead."
   ]
  },
  {
   "cell_type": "code",
   "execution_count": 10,
   "metadata": {},
   "outputs": [],
   "source": [
    "np.random.seed(0)\n",
    "Y = np.concatenate((np.random.binomial(n=1, p=.4, size=5000), np.random.binomial(n=1, p=.8, size=5000)))"
   ]
  },
  {
   "cell_type": "code",
   "execution_count": 13,
   "metadata": {},
   "outputs": [
    {
     "ename": "ValueError",
     "evalue": "math domain error",
     "output_type": "error",
     "traceback": [
      "\u001b[0;31m---------------------------------------------------------------------------\u001b[0m",
      "\u001b[0;31mValueError\u001b[0m                                Traceback (most recent call last)",
      "\u001b[1;32m/home/romano/Dropbox/changepoint.online/python/notebooks/examples.ipynb Cell 25\u001b[0m line \u001b[0;36m3\n\u001b[1;32m      <a href='vscode-notebook-cell:/home/romano/Dropbox/changepoint.online/python/notebooks/examples.ipynb#X33sZmlsZQ%3D%3D?line=0'>1</a>\u001b[0m detector \u001b[39m=\u001b[39m Focus(Bernoulli())\n\u001b[1;32m      <a href='vscode-notebook-cell:/home/romano/Dropbox/changepoint.online/python/notebooks/examples.ipynb#X33sZmlsZQ%3D%3D?line=1'>2</a>\u001b[0m \u001b[39mfor\u001b[39;00m y \u001b[39min\u001b[39;00m Y:\n\u001b[0;32m----> <a href='vscode-notebook-cell:/home/romano/Dropbox/changepoint.online/python/notebooks/examples.ipynb#X33sZmlsZQ%3D%3D?line=2'>3</a>\u001b[0m     detector\u001b[39m.\u001b[39;49mupdate(y)\n\u001b[1;32m      <a href='vscode-notebook-cell:/home/romano/Dropbox/changepoint.online/python/notebooks/examples.ipynb#X33sZmlsZQ%3D%3D?line=3'>4</a>\u001b[0m     \u001b[39mif\u001b[39;00m detector\u001b[39m.\u001b[39mstatistic() \u001b[39m>\u001b[39m\u001b[39m=\u001b[39m threshold:\n\u001b[1;32m      <a href='vscode-notebook-cell:/home/romano/Dropbox/changepoint.online/python/notebooks/examples.ipynb#X33sZmlsZQ%3D%3D?line=4'>5</a>\u001b[0m         \u001b[39mbreak\u001b[39;00m\n",
      "File \u001b[0;32m~/Dropbox/changepoint.online/python/.venv/lib/python3.11/site-packages/changepoint_online/focus.py:278\u001b[0m, in \u001b[0;36mFocus.update\u001b[0;34m(self, y)\u001b[0m\n\u001b[1;32m    275\u001b[0m Focus\u001b[39m.\u001b[39m_prune(\u001b[39mself\u001b[39m\u001b[39m.\u001b[39mql, \u001b[39mself\u001b[39m\u001b[39m.\u001b[39mcs, \u001b[39m\"\u001b[39m\u001b[39mleft\u001b[39m\u001b[39m\"\u001b[39m)  \u001b[39m# false for the left pruning\u001b[39;00m\n\u001b[1;32m    277\u001b[0m \u001b[39m# check the maximum\u001b[39;00m\n\u001b[0;32m--> 278\u001b[0m \u001b[39mself\u001b[39m\u001b[39m.\u001b[39mqr\u001b[39m.\u001b[39mopt \u001b[39m=\u001b[39m Focus\u001b[39m.\u001b[39;49m_get_max_all(\u001b[39mself\u001b[39;49m\u001b[39m.\u001b[39;49mqr, \u001b[39mself\u001b[39;49m\u001b[39m.\u001b[39;49mcs, m0)\n\u001b[1;32m    279\u001b[0m \u001b[39mself\u001b[39m\u001b[39m.\u001b[39mql\u001b[39m.\u001b[39mopt \u001b[39m=\u001b[39m Focus\u001b[39m.\u001b[39m_get_max_all(\u001b[39mself\u001b[39m\u001b[39m.\u001b[39mql, \u001b[39mself\u001b[39m\u001b[39m.\u001b[39mcs, m0)\n\u001b[1;32m    281\u001b[0m \u001b[39m# add a new point\u001b[39;00m\n",
      "File \u001b[0;32m~/Dropbox/changepoint.online/python/.venv/lib/python3.11/site-packages/changepoint_online/focus.py:312\u001b[0m, in \u001b[0;36mFocus._get_max_all\u001b[0;34m(q, cs, m0)\u001b[0m\n\u001b[1;32m    311\u001b[0m \u001b[39mdef\u001b[39;00m \u001b[39m_get_max_all\u001b[39m(q, cs, m0):\n\u001b[0;32m--> 312\u001b[0m     \u001b[39mreturn\u001b[39;00m \u001b[39mmax\u001b[39;49m(p\u001b[39m.\u001b[39;49mget_max(cs) \u001b[39m-\u001b[39;49m m0 \u001b[39mfor\u001b[39;49;00m p \u001b[39min\u001b[39;49;00m q\u001b[39m.\u001b[39;49mps)\n",
      "File \u001b[0;32m~/Dropbox/changepoint.online/python/.venv/lib/python3.11/site-packages/changepoint_online/focus.py:312\u001b[0m, in \u001b[0;36m<genexpr>\u001b[0;34m(.0)\u001b[0m\n\u001b[1;32m    311\u001b[0m \u001b[39mdef\u001b[39;00m \u001b[39m_get_max_all\u001b[39m(q, cs, m0):\n\u001b[0;32m--> 312\u001b[0m     \u001b[39mreturn\u001b[39;00m \u001b[39mmax\u001b[39m(p\u001b[39m.\u001b[39;49mget_max(cs) \u001b[39m-\u001b[39m m0 \u001b[39mfor\u001b[39;00m p \u001b[39min\u001b[39;00m q\u001b[39m.\u001b[39mps)\n",
      "File \u001b[0;32m~/Dropbox/changepoint.online/python/.venv/lib/python3.11/site-packages/changepoint_online/focus.py:35\u001b[0m, in \u001b[0;36mCompFunc.get_max\u001b[0;34m(self, cs)\u001b[0m\n\u001b[1;32m     34\u001b[0m \u001b[39mdef\u001b[39;00m \u001b[39mget_max\u001b[39m(\u001b[39mself\u001b[39m, cs):\n\u001b[0;32m---> 35\u001b[0m     \u001b[39mreturn\u001b[39;00m \u001b[39mself\u001b[39;49m\u001b[39m.\u001b[39;49meval(\u001b[39mself\u001b[39;49m\u001b[39m.\u001b[39;49margmax(cs), cs)\n",
      "File \u001b[0;32m~/Dropbox/changepoint.online/python/.venv/lib/python3.11/site-packages/changepoint_online/focus.py:57\u001b[0m, in \u001b[0;36mBernoulliClass.eval\u001b[0;34m(self, x, cs)\u001b[0m\n\u001b[1;32m     55\u001b[0m s \u001b[39m=\u001b[39m cs\u001b[39m.\u001b[39msn \u001b[39m-\u001b[39m \u001b[39mself\u001b[39m\u001b[39m.\u001b[39mst\n\u001b[1;32m     56\u001b[0m \u001b[39mif\u001b[39;00m \u001b[39mself\u001b[39m\u001b[39m.\u001b[39mtheta0 \u001b[39mis\u001b[39;00m \u001b[39mNone\u001b[39;00m:\n\u001b[0;32m---> 57\u001b[0m     \u001b[39mreturn\u001b[39;00m s \u001b[39m*\u001b[39m math\u001b[39m.\u001b[39mlog(x) \u001b[39m+\u001b[39m (c \u001b[39m-\u001b[39m s) \u001b[39m*\u001b[39m math\u001b[39m.\u001b[39;49mlog(\u001b[39m1\u001b[39;49m \u001b[39m-\u001b[39;49m x) \u001b[39m+\u001b[39m \u001b[39mself\u001b[39m\u001b[39m.\u001b[39mm0\n\u001b[1;32m     58\u001b[0m \u001b[39melse\u001b[39;00m:\n\u001b[1;32m     59\u001b[0m     \u001b[39mreturn\u001b[39;00m s \u001b[39m*\u001b[39m math\u001b[39m.\u001b[39mlog(x \u001b[39m/\u001b[39m \u001b[39mself\u001b[39m\u001b[39m.\u001b[39mtheta0) \u001b[39m+\u001b[39m (c \u001b[39m-\u001b[39m s) \u001b[39m*\u001b[39m math\u001b[39m.\u001b[39mlog((\u001b[39m1\u001b[39m \u001b[39m-\u001b[39m x) \u001b[39m/\u001b[39m (\u001b[39m1\u001b[39m \u001b[39m-\u001b[39m \u001b[39mself\u001b[39m\u001b[39m.\u001b[39mtheta0))\n",
      "\u001b[0;31mValueError\u001b[0m: math domain error"
     ]
    }
   ],
   "source": [
    "detector = Focus(Bernoulli())\n",
    "for y in Y:\n",
    "    detector.update(y)\n",
    "    if detector.statistic() >= threshold:\n",
    "        break\n",
    "detector.changepoint()"
   ]
  }
 ],
 "metadata": {
  "kernelspec": {
   "display_name": "Python 3 (ipykernel)",
   "language": "python",
   "name": "python3"
  },
  "language_info": {
   "codemirror_mode": {
    "name": "ipython",
    "version": 3
   },
   "file_extension": ".py",
   "mimetype": "text/x-python",
   "name": "python",
   "nbconvert_exporter": "python",
   "pygments_lexer": "ipython3",
   "version": "3.11.6"
  }
 },
 "nbformat": 4,
 "nbformat_minor": 5
}
