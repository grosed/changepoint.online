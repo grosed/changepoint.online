{
 "cells": [
  {
   "cell_type": "markdown",
   "id": "ff2ef194-c7f2-4c4a-aa4d-06565425f6c6",
   "metadata": {},
   "source": [
    "## Examples"
   ]
  },
  {
   "cell_type": "code",
   "execution_count": 1,
   "id": "c4679237-6f21-4d26-9f0c-f46edab8a092",
   "metadata": {},
   "outputs": [
    {
     "name": "stdout",
     "output_type": "stream",
     "text": [
      "Collecting numpy\n",
      "  Using cached numpy-1.26.1-cp311-cp311-manylinux_2_17_x86_64.manylinux2014_x86_64.whl.metadata (61 kB)\n",
      "Using cached numpy-1.26.1-cp311-cp311-manylinux_2_17_x86_64.manylinux2014_x86_64.whl (18.2 MB)\n",
      "Installing collected packages: numpy\n",
      "Successfully installed numpy-1.26.1\n"
     ]
    }
   ],
   "source": [
    "!python -m pip install numpy"
   ]
  },
  {
   "cell_type": "code",
   "execution_count": 19,
   "id": "62bed1a8-9b68-43ce-9b9b-9c4da13bda02",
   "metadata": {},
   "outputs": [
    {
     "name": "stdout",
     "output_type": "stream",
     "text": [
      "Found existing installation: changepoint-online 0.0.1\n",
      "Uninstalling changepoint-online-0.0.1:\n",
      "  Successfully uninstalled changepoint-online-0.0.1\n"
     ]
    }
   ],
   "source": [
    "!python -m pip uninstall -y changepoint_online"
   ]
  },
  {
   "cell_type": "code",
   "execution_count": 1,
   "id": "0572e3a0-47b8-4e7c-9d7d-827d7ccdbfd2",
   "metadata": {},
   "outputs": [
    {
     "name": "stdout",
     "output_type": "stream",
     "text": [
      "Processing /home/romano/Dropbox/changepoint.online/python/package\n",
      "  Installing build dependencies ... \u001b[?25ldone\n",
      "\u001b[?25h  Getting requirements to build wheel ... \u001b[?25ldone\n",
      "\u001b[?25h  Installing backend dependencies ... \u001b[?25ldone\n",
      "\u001b[?25h  Preparing metadata (pyproject.toml) ... \u001b[?25ldone\n",
      "\u001b[?25hBuilding wheels for collected packages: changepoint-online\n",
      "  Building wheel for changepoint-online (pyproject.toml) ... \u001b[?25ldone\n",
      "\u001b[?25h  Created wheel for changepoint-online: filename=changepoint_online-0.0.1-py3-none-any.whl size=17061 sha256=fdb28cda620db221e7e930bd5235a7dd195bf38583dcfc9085911c539f607db6\n",
      "  Stored in directory: /tmp/pip-ephem-wheel-cache-p5cy2f_j/wheels/ef/98/3a/e389858773e4fe5f47ec0415eb44c05e2319de69019c54a854\n",
      "Successfully built changepoint-online\n",
      "Installing collected packages: changepoint-online\n",
      "  Attempting uninstall: changepoint-online\n",
      "    Found existing installation: changepoint-online 0.0.1\n",
      "    Uninstalling changepoint-online-0.0.1:\n",
      "      Successfully uninstalled changepoint-online-0.0.1\n",
      "Successfully installed changepoint-online-0.0.1\n"
     ]
    }
   ],
   "source": [
    "!python -m pip install '../package/'"
   ]
  },
  {
   "cell_type": "code",
   "execution_count": 2,
   "id": "db68070c-11d9-49c4-adcb-c68e2a2127e8",
   "metadata": {},
   "outputs": [],
   "source": [
    "from changepoint_online import *"
   ]
  },
  {
   "cell_type": "code",
   "execution_count": 3,
   "metadata": {},
   "outputs": [
    {
     "name": "stdout",
     "output_type": "stream",
     "text": [
      "Help on class Focus in module changepoint_online.focus:\n",
      "\n",
      "class Focus(builtins.object)\n",
      " |  Focus(family)\n",
      " |  \n",
      " |  The Focus class implements the FOCuS method, an algorithm for detecting changes in data streams on one-parameter exponential family models.\n",
      " |  For instance, FOCuS can detect changes-in-mean in a Gaussian data stream (white noise). \n",
      " |  It can be applied to settings where either the pre-change parameter is known or unknown.\n",
      " |      \n",
      " |  Details\n",
      " |  -------\n",
      " |  FOCuS solves the CUSUM likelihood-ratio test exactly in O(log(n)) time per iteration, where n is the current iteration. \n",
      " |  The method is equivalent to running a rolling window (MOSUM) simultaneously for all sizes of window, or the Page-CUSUM for all possible values\n",
      " |  of the size of change (an infinitely dense grid). \n",
      " |  \n",
      " |  DISCLAIMER: Albeit the FOCuS algorithm decreases the per-iteration cost from O(n) to O(log(n)), this \n",
      " |  implementation is not technically online as for n->infty this code would inherently overflow. \n",
      " |  True online implementations are described in the references below.\n",
      " |  \n",
      " |  Fast online changepoint detection via functional pruning CUSUM statistics\n",
      " |      G Romano, IA Eckley, P Fearnhead, G Rigaill - Journal of Machine Learning Research, 2023\n",
      " |  A Constant-per-Iteration Likelihood Ratio Test for Online Changepoint Detection for Exponential Family Models\n",
      " |      K Ward, G Romano, I Eckley, P Fearnhead - arXiv preprint arXiv:2302.04743, 2023\n",
      " |  \n",
      " |          \n",
      " |  Examples\n",
      " |  --------\n",
      " |  ```python\n",
      " |  \n",
      " |  ### Simple gaussian change in mean case ###\n",
      " |  import numpy as np\n",
      " |  \n",
      " |  np.random.seed(0)\n",
      " |  Y = np.concatenate((np.random.normal(loc=0.0, scale=1.0, size=5000), np.random.normal(loc=10.0, scale=1.0, size=5000)))\n",
      " |  \n",
      " |  detector = Focus(Gaussian)\n",
      " |  threshold = 10.0\n",
      " |  for y in Y:\n",
      " |      detector.update(y)\n",
      " |      if detector.score() >= threshold:\n",
      " |          break\n",
      " |  ```\n",
      " |  \n",
      " |  Attributes\n",
      " |  ----------\n",
      " |  cs: \n",
      " |      An instance of the `_CUSUM` class that keeps track of the cumulative sum and count.\n",
      " |  ql: \n",
      " |      An instance of the `_Cost` class, that keeps track of the cost function on the left side of the pre-change parameter.\n",
      " |  qr: \n",
      " |      An instance of the `_Cost` class, that keeps track of the cost function on the right side of the pre-change parameter.\n",
      " |  family: \n",
      " |      The constructor for the family of the model distribution.\n",
      " |  \n",
      " |  Methods defined here:\n",
      " |  \n",
      " |  __init__(self, family)\n",
      " |      Initializes the Focus detector.\n",
      " |      \n",
      " |      Usage\n",
      " |      -----\n",
      " |      Focus(family)\n",
      " |          family: A constructor for the family of distributions to use for the change detection.\n",
      " |                  Currently implemented: Gaussian, Bernoulli, Poisson, GammaClass, or AR1Class.\n",
      " |                  For more details, check help(Family).\n",
      " |      \n",
      " |      Returns\n",
      " |      -------\n",
      " |      Focus:\n",
      " |          An object of class Focus, our changepoint detector.\n",
      " |  \n",
      " |  changepoint(self)\n",
      " |      Returns the most likely changepoint location.\n",
      " |      \n",
      " |      Usage\n",
      " |      -----\n",
      " |      detector.changepoint()\n",
      " |      \n",
      " |      Returns\n",
      " |      -------\n",
      " |      dict:\n",
      " |          A dictionary containing the stopping time and the most likely changepoint location.\n",
      " |  \n",
      " |  score(self)\n",
      " |      Returns the value of the CUSUM statistic at the current time.\n",
      " |      \n",
      " |      Usage\n",
      " |      -----\n",
      " |      detector.score()\n",
      " |      \n",
      " |      Returns\n",
      " |      -------\n",
      " |      float:\n",
      " |          The value of the CUSUM statistic at the current time.\n",
      " |  \n",
      " |  update(self, y)\n",
      " |      Updates the FOCuS statistics with a new observation (data point).\n",
      " |      \n",
      " |      Usage\n",
      " |      -----\n",
      " |      detector.update(y)\n",
      " |          y: The new data point, either a single integer or a double.\n",
      " |      \n",
      " |      Returns\n",
      " |      -------\n",
      " |      None\n",
      " |  \n",
      " |  ----------------------------------------------------------------------\n",
      " |  Data descriptors defined here:\n",
      " |  \n",
      " |  __dict__\n",
      " |      dictionary for instance variables (if defined)\n",
      " |  \n",
      " |  __weakref__\n",
      " |      list of weak references to the object (if defined)\n",
      "\n"
     ]
    }
   ],
   "source": [
    "help(Focus)"
   ]
  },
  {
   "cell_type": "code",
   "execution_count": 8,
   "id": "2baaaf24-4c94-4166-baa9-7a09da0cf04e",
   "metadata": {},
   "outputs": [],
   "source": [
    "import numpy as np"
   ]
  },
  {
   "cell_type": "code",
   "execution_count": 9,
   "id": "914bcf26-ac50-4d6c-a133-9f96c9e51a3a",
   "metadata": {},
   "outputs": [],
   "source": [
    "np.random.seed(0)\n",
    "Y = np.concatenate((np.random.normal(loc=0.0, scale=1.0, size=5000), np.random.normal(loc=10.0, scale=1.0, size=5000)))"
   ]
  },
  {
   "cell_type": "markdown",
   "id": "b4f70926-bb54-48c9-83fc-720e37c677a5",
   "metadata": {},
   "source": [
    "### Guassian"
   ]
  },
  {
   "cell_type": "code",
   "execution_count": 11,
   "id": "69fc131e-d8c0-43d4-b0af-9aae86681a6f",
   "metadata": {},
   "outputs": [],
   "source": [
    "detector = Focus(Guassian)"
   ]
  },
  {
   "cell_type": "code",
   "execution_count": 16,
   "metadata": {},
   "outputs": [
    {
     "name": "stdout",
     "output_type": "stream",
     "text": [
      "Help on built-in function seed in module numpy.random.mtrand:\n",
      "\n",
      "seed(...)\n",
      "    seed(seed=None)\n",
      "    \n",
      "    Reseed the singleton RandomState instance.\n",
      "    \n",
      "    Notes\n",
      "    -----\n",
      "    This is a convenience, legacy function that exists to support\n",
      "    older code that uses the singleton RandomState. Best practice\n",
      "    is to use a dedicated ``Generator`` instance rather than\n",
      "    the random variate generation methods exposed directly in\n",
      "    the random module.\n",
      "    \n",
      "    See Also\n",
      "    --------\n",
      "    numpy.random.Generator\n",
      "\n"
     ]
    }
   ],
   "source": [
    "help(numpy.random.Generator)"
   ]
  },
  {
   "cell_type": "code",
   "execution_count": 13,
   "id": "69bc536d-e451-4663-b3ac-48f762a2f6f7",
   "metadata": {},
   "outputs": [],
   "source": [
    "threshold = 10.0\n",
    "for y in Y:\n",
    "    detector.update(y)\n",
    "    if detector.score() >= threshold:\n",
    "        break"
   ]
  },
  {
   "cell_type": "code",
   "execution_count": 9,
   "id": "c5e7261c-77a2-443d-b9dd-fb3d27b8e2cf",
   "metadata": {},
   "outputs": [
    {
     "data": {
      "text/plain": [
       "{'stopping_time': 5001, 'changepoint': 5000}"
      ]
     },
     "execution_count": 9,
     "metadata": {},
     "output_type": "execute_result"
    }
   ],
   "source": [
    "detector.changepoint()"
   ]
  },
  {
   "cell_type": "markdown",
   "id": "195ac910-a559-4061-a599-1747c1c47054",
   "metadata": {},
   "source": [
    "### Poisson"
   ]
  },
  {
   "cell_type": "code",
   "execution_count": null,
   "id": "e1ba3e79-674d-4504-ab06-f0fc498bdad1",
   "metadata": {},
   "outputs": [],
   "source": [
    "np.random.seed(0)\n",
    "Y = np.concatenate((np.random.poisson(lam=4.0, size=5000), np.random.poisson(lam=4.2, size=5000)))"
   ]
  },
  {
   "cell_type": "code",
   "execution_count": null,
   "id": "b6147786-89b5-4223-90e2-82182af6d19a",
   "metadata": {},
   "outputs": [],
   "source": [
    "detector = Focus(Poisson)"
   ]
  },
  {
   "cell_type": "code",
   "execution_count": null,
   "id": "3f5d0a82-737c-440d-87cf-0801deaec166",
   "metadata": {},
   "outputs": [],
   "source": [
    "threshold = 10.0\n",
    "for y in Y:\n",
    "    detector.update(y)\n",
    "    if detector.threshold() >= threshold:\n",
    "        break"
   ]
  },
  {
   "cell_type": "code",
   "execution_count": null,
   "id": "1f1fe427-fb22-499f-b39c-95f5d5c23c6d",
   "metadata": {},
   "outputs": [],
   "source": [
    "detector.changepoint()"
   ]
  },
  {
   "cell_type": "markdown",
   "id": "f26d4ef9-27f8-4c42-b691-66b287538a48",
   "metadata": {},
   "source": [
    "### Gamma"
   ]
  },
  {
   "cell_type": "code",
   "execution_count": null,
   "id": "3d7e4cc7-b586-44ac-a14d-bbda762ceb5d",
   "metadata": {},
   "outputs": [],
   "source": [
    "np.random.seed(0)\n",
    "Y = np.concatenate((np.random.gamma(4.0, scale=3.0, size=5000), np.random.gamma(4.0, scale=6.0, size=5000)))"
   ]
  },
  {
   "cell_type": "code",
   "execution_count": null,
   "id": "c1395c0a-17da-4f56-9978-19559eea9e23",
   "metadata": {},
   "outputs": [],
   "source": [
    "detector = Focus(Gamma(1))"
   ]
  },
  {
   "cell_type": "code",
   "execution_count": null,
   "id": "34c7d047-3bf8-4cac-bbf0-a464474d5b58",
   "metadata": {},
   "outputs": [],
   "source": [
    "threshold = 10.0\n",
    "for y in Y:\n",
    "    detector.update(y)\n",
    "    if detector.threshold() >= threshold:\n",
    "        break"
   ]
  },
  {
   "cell_type": "code",
   "execution_count": null,
   "id": "61c4ec8b-c8f2-4e12-b530-4f6c75aebde5",
   "metadata": {},
   "outputs": [],
   "source": [
    "detector.changepoint()"
   ]
  }
 ],
 "metadata": {
  "kernelspec": {
   "display_name": "Python 3 (ipykernel)",
   "language": "python",
   "name": "python3"
  },
  "language_info": {
   "codemirror_mode": {
    "name": "ipython",
    "version": 3
   },
   "file_extension": ".py",
   "mimetype": "text/x-python",
   "name": "python",
   "nbconvert_exporter": "python",
   "pygments_lexer": "ipython3",
   "version": "3.11.6"
  }
 },
 "nbformat": 4,
 "nbformat_minor": 5
}
