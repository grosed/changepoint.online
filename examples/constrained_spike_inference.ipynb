{
  "cells": [
    {
      "cell_type": "raw",
      "metadata": {},
      "source": [
        "---\n",
        "title: \"Constrained Spike Inference Data Example\"\n",
        "format: ipynb\n",
        "editor: visual\n",
        "---"
      ],
      "id": "b136d21d"
    },
    {
      "cell_type": "markdown",
      "metadata": {},
      "source": [
        "# Focus: Spike inference data example\n",
        "\n",
        "This notebooks shows an example of the constrained model for Focus. This example is inspired from one application of changepoint detection to spike inference in calcium imaging data. For past developments in the offline setting, see [Jewell and al. (2020)](https://academic.oup.com/biostatistics/article/21/4/709/5310127).\n"
      ],
      "id": "6c511797"
    },
    {
      "cell_type": "code",
      "metadata": {},
      "source": [
        "#!python -m pip install '../package/'\n",
        "#!python -m pip install pandas\n",
        "#!python -m pip install plotnine\n",
        "#!python -m pip install ipywidgets"
      ],
      "id": "08e5549f",
      "execution_count": null,
      "outputs": []
    },
    {
      "cell_type": "code",
      "metadata": {},
      "source": [
        "import numpy as np\n",
        "import pandas as pd\n",
        "from plotnine import ggplot, aes, geom_line, geom_vline, theme_minimal, xlim, geom_segment, geom_point\n",
        "import plotnine as pl\n",
        "from changepoint_online import *\n",
        "import pickle"
      ],
      "id": "e231c557",
      "execution_count": null,
      "outputs": []
    },
    {
      "cell_type": "markdown",
      "metadata": {},
      "source": [
        "## An introductory example\n",
        "To explain how to run the costrained recursion in focus, and see what effects it has on the changepoint detections, we generate an artificial example:\n"
      ],
      "id": "48c3f0f7"
    },
    {
      "cell_type": "code",
      "metadata": {},
      "source": [
        "np.random.seed(0)\n",
        "Y = np.concatenate((np.random.normal(loc=0.0, scale=1.0, size=1000),\n",
        "                    np.random.normal(loc=-2.0, scale=1.0, size=1000),\n",
        "                    np.random.normal(loc=1.0, scale=1.0, size=1000)))"
      ],
      "id": "443774b3",
      "execution_count": null,
      "outputs": []
    },
    {
      "cell_type": "code",
      "metadata": {},
      "source": [
        "df = pd.DataFrame({'t' : range(Y.size), 'Y': Y})\n",
        "(ggplot(df, aes(x='t', y='Y')) +\n",
        "        geom_line())"
      ],
      "id": "fd15cedd",
      "execution_count": null,
      "outputs": []
    },
    {
      "cell_type": "markdown",
      "metadata": {},
      "source": [
        "For detecting just up changes we can specify:\n"
      ],
      "id": "94c99e20"
    },
    {
      "cell_type": "code",
      "metadata": {},
      "source": [
        "threshold = 10.0\n",
        "\n",
        "detector = Focus(Gaussian(), side=\"right\")\n",
        "for y in Y:\n",
        "    detector.update(y)\n",
        "    if detector.statistic() >= threshold:\n",
        "        break\n",
        "detector.changepoint()"
      ],
      "id": "cf881e23",
      "execution_count": null,
      "outputs": []
    },
    {
      "cell_type": "markdown",
      "metadata": {},
      "source": [
        "Similarly, for detecting just down changes we can specify:\n"
      ],
      "id": "5d03fb45"
    },
    {
      "cell_type": "code",
      "metadata": {},
      "source": [
        "threshold = 10.0\n",
        "\n",
        "detector = Focus(Gaussian(), side=\"left\")\n",
        "for y in Y:\n",
        "    detector.update(y)\n",
        "    if detector.statistic() >= threshold:\n",
        "        break\n",
        "detector.changepoint()"
      ],
      "id": "a76a976c",
      "execution_count": null,
      "outputs": []
    },
    {
      "cell_type": "markdown",
      "metadata": {},
      "source": [
        "## Constrained Up-Down model for spike inference\n",
        "\n",
        "Now this constrained optimization can be useful for detecting spikes in calcium-imaging data. In this context, a spike is equivalent to a neuron firing. Following a spike we find an exponential decay.\n"
      ],
      "id": "dda1ea28"
    },
    {
      "cell_type": "code",
      "metadata": {},
      "source": [
        "with open(\"data/example_trace.pkl\", \"rb\") as f:\n",
        "    neur_trace = pickle.load(f)"
      ],
      "id": "39ac7910",
      "execution_count": null,
      "outputs": []
    },
    {
      "cell_type": "markdown",
      "metadata": {},
      "source": [
        "Plotting the trace (and the real spike times, in orange below the calcium trace):\n"
      ],
      "id": "c5115ba4"
    },
    {
      "cell_type": "code",
      "metadata": {},
      "source": [
        "# Define the y position for the segments\n",
        "y_position = 0\n",
        "plt_seg_range = -.5\n",
        "\n",
        "\n",
        "# Create a new DataFrame for the spikes\n",
        "df_spikes = pd.DataFrame({\n",
        "    't': neur_trace[\"spikes\"],\n",
        "    'y': [y_position] * len(neur_trace[\"spikes\"]),\n",
        "    'yend': [y_position + plt_seg_range] * len(neur_trace[\"spikes\"])\n",
        "})\n",
        "\n",
        "df = pd.DataFrame({'t' : neur_trace[\"time\"], 'Y': neur_trace[\"trace\"]})\n",
        "\n",
        "(ggplot(df, aes(x='t', y='Y')) + \n",
        "    geom_line() + \n",
        "    geom_segment(df_spikes, aes(x = 't', xend = 't', y = 'y', yend = 'yend'), alpha = 0.6, colour = \"orange\") +\n",
        "    xlim(0, 160)+\n",
        "    theme_minimal()\n",
        ")"
      ],
      "id": "be43acdd",
      "execution_count": null,
      "outputs": []
    },
    {
      "cell_type": "markdown",
      "metadata": {},
      "source": [
        "We can run a two-states constrained model to keep track of the up state and the decay state.  \n",
        "To do so, at every iteration we run two changepoint detectors, one focusing on the left-changes (decay) and one for the right-changes (increase, equivalent to a neuron firing). Every time one of the two detectors passes the relative threshold, we re-initialize the model. \n"
      ],
      "id": "5e2bbb59"
    },
    {
      "cell_type": "code",
      "metadata": {},
      "source": [
        "# change this to focus on a smaller part of the trace\n",
        "lower, upper = 0, len(neur_trace[\"trace\"])\n",
        "Y = neur_trace[\"trace\"][lower:upper]\n",
        "time = neur_trace[\"time\"][lower:upper]\n",
        "\n",
        "# thresholds for up and down changes\n",
        "r_threshold = .2\n",
        "l_threshold = 1\n",
        "\n",
        "# init of the two detectors\n",
        "r_detector = Focus(Gaussian(), side=\"right\")\n",
        "l_detector = Focus(Gaussian(), side=\"left\")\n",
        "\n",
        "cpt_found = False\n",
        "stp_list = []\n",
        "seg_type = []\n",
        "r_stat = []\n",
        "l_stat = []\n",
        "\n",
        "for t, y in enumerate(Y):\n",
        "\n",
        "    # updating both the right and left detectors\n",
        "    r_detector.update(y)\n",
        "    l_detector.update(y)\n",
        "\n",
        "    # ... and the statistics\n",
        "    r_stat.append(r_detector.statistic())\n",
        "    l_stat.append(l_detector.statistic())\n",
        "\n",
        "    # if either pass a treshold\n",
        "    if r_stat[-1] > r_threshold:\n",
        "        cpt_found = True\n",
        "        type = \"right\"\n",
        "    elif l_stat[-1] > l_threshold:\n",
        "        cpt_found = True\n",
        "        type = \"left\"\n",
        "\n",
        "    # we record the change and re-initialize the detectors\n",
        "    if cpt_found:\n",
        "        stp_list.append(time[t])\n",
        "        seg_type.append(type)\n",
        "        \n",
        "        cpt_found = False\n",
        "        r_detector = Focus(Gaussian(), side=\"right\")\n",
        "        l_detector = Focus(Gaussian(), side=\"left\")"
      ],
      "id": "4e985818",
      "execution_count": null,
      "outputs": []
    },
    {
      "cell_type": "markdown",
      "metadata": {},
      "source": [
        "We can see that by focusing only on the up states, we are able to reconstruct the neuron firing in real-time with relatively short delay (few milliseconds), few missed detections, and no false positives.\n"
      ],
      "id": "ec884ca0"
    },
    {
      "cell_type": "code",
      "metadata": {},
      "source": [
        "# Define the y position for the segments\n",
        "y_position = 0\n",
        "plt_seg_range = -.5\n",
        "\n",
        "# Create a new DataFrame for the spikes\n",
        "df_spikes = pd.DataFrame({\n",
        "    't': neur_trace[\"spikes\"],\n",
        "    'y': [y_position] * len(neur_trace[\"spikes\"]),\n",
        "    'yend': [y_position + plt_seg_range] * len(neur_trace[\"spikes\"])\n",
        "})\n",
        "\n",
        "y_position = - 0.5\n",
        "\n",
        "# Create a new DataFrame for the changes\n",
        "df_changes = pd.DataFrame({\n",
        "    't': stp_list,\n",
        "    'y': [y_position] * len(stp_list),\n",
        "    'yend': [y_position + plt_seg_range] * len(stp_list),\n",
        "    'type': seg_type\n",
        "})\n",
        "\n",
        "df = pd.DataFrame({'t' : time, 'Y': Y})\n",
        "\n",
        "# uncomment line to plot traces/segments for either up and down changes. \n",
        "(ggplot(df, aes(x='t', y='Y')) + \n",
        "    geom_line() + \n",
        "    geom_segment(df_spikes, aes(x = 't', xend = 't', y = 'y', yend = 'yend'), alpha = 0.6, colour = \"orange\") +\n",
        "    geom_segment(df_changes.query('type == \"right\"'), aes(x = 't', xend = 't', y = 'y', yend = 'yend'), colour = \"blue\") +\n",
        "    #geom_segment(df_changes.query('type == \"left\"'), aes(x = 't', xend = 't', y = 'y', yend = 'yend'), colour = \"red\") +\n",
        "    geom_line(pd.DataFrame({'t' : time, 'Y': r_stat}), aes(x='t', y='Y'), colour = \"blue\") + \n",
        "    #geom_line(pd.DataFrame({'t' : time, 'Y': l_stat}), aes(x='t', y='Y'), colour = \"red\") + \n",
        "    #xlim(time[0], time[-1])+\n",
        "    xlim(0, 160)+ # change here to see different zooms\n",
        "    theme_minimal()\n",
        ")"
      ],
      "id": "edc2170e",
      "execution_count": null,
      "outputs": []
    },
    {
      "cell_type": "code",
      "metadata": {},
      "source": [
        "(ggplot(df, aes(x='t', y='Y')) + \n",
        "    geom_line() + \n",
        "    geom_segment(df_spikes, aes(x = 't', xend = 't', y = 'y', yend = 'yend'), alpha = 0.6, colour = \"orange\") +\n",
        "    geom_segment(df_changes.query('type == \"right\"'), aes(x = 't', xend = 't', y = 'y', yend = 'yend'), colour = \"blue\") +\n",
        "    #geom_segment(df_changes.query('type == \"left\"'), aes(x = 't', xend = 't', y = 'y', yend = 'yend'), colour = \"red\") +\n",
        "    geom_line(pd.DataFrame({'t' : time, 'Y': r_stat}), aes(x='t', y='Y'), colour = \"blue\") + \n",
        "    #geom_line(pd.DataFrame({'t' : time, 'Y': l_stat}), aes(x='t', y='Y'), colour = \"red\") + \n",
        "    #xlim(time[0], time[-1])+\n",
        "    xlim(74.1, 75.9)+ # change here to see different zooms\n",
        "    theme_minimal()\n",
        ")"
      ],
      "id": "97ce6828",
      "execution_count": null,
      "outputs": []
    }
  ],
  "metadata": {
    "kernelspec": {
      "display_name": "Python 3",
      "language": "python",
      "name": "python3"
    }
  },
  "nbformat": 4,
  "nbformat_minor": 5
}